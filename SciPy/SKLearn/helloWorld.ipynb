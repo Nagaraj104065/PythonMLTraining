{
 "cells": [
  {
   "cell_type": "code",
   "execution_count": null,
   "metadata": {},
   "outputs": [],
   "source": [
    "'''\n",
    " This is the  simplest linear regression example\n",
    "'''\n",
    "\n",
    "import numpy as np\n",
    "from sklearn.linear_model import LinearRegression \n",
    "\n",
    "import matplotlib.pyplot as plot\n",
    "import pandas as pd\n",
    "\n",
    "x = np.arange(1, 16)\n",
    "y = [ val*val for val in x]\n",
    "dataSets = [[x[i], y[i]] for i in xrange(len(x))]\n",
    "dataFrame = pd.DataFrame(dataSets, columns=['Decimal', 'Squared'])\n",
    "\n",
    "print dataFrame\n",
    "x = x.reshape((len(x),1))\n",
    "\n",
    "trainedModal = LinearRegression().fit(dataFrame['Decimal'][:,np.newaxis], dataFrame['Squared'])\n",
    "yfit = [val*trainedModal.coef_ + trainedModal.intercept_ for val in x]\n",
    "\n",
    "plot.scatter(x,y);\n",
    "plot.plot(x,yfit)\n",
    "plot.ylabel(\"Square\")\n",
    "plot.xlabel(\"Decimal\")\n",
    "plot.show()\n",
    "trainedModal.predict(12)"
   ]
  }
 ],
 "metadata": {
  "kernelspec": {
   "display_name": "Python 2",
   "language": "python",
   "name": "python2"
  },
  "language_info": {
   "codemirror_mode": {
    "name": "ipython",
    "version": 2
   },
   "file_extension": ".py",
   "mimetype": "text/x-python",
   "name": "python",
   "nbconvert_exporter": "python",
   "pygments_lexer": "ipython2",
   "version": "2.7.15"
  }
 },
 "nbformat": 4,
 "nbformat_minor": 2
}
