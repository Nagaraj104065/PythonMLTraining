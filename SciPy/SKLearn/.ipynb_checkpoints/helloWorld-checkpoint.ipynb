{
 "cells": [
  {
   "cell_type": "code",
   "execution_count": null,
   "metadata": {
    "scrolled": true,
    "collapsed": true
   },
   "outputs": [
    {
     "data": {
      "image/png": "[encoded data removed]",
      "text/plain": [
       "<Figure size 432x288 with 1 Axes>"
      ]
     },
     "metadata": {},
     "output_type": "display_data"
    },
    {
     "data": {
      "text/plain": [
       "array([130.])"
      ]
     },
     "execution_count": 109,
     "metadata": {},
     "output_type": "execute_result"
    }
   ],
   "source": [
    "'''\n",
    " This is the  simplest linear regression example\n",
    "'''\n",
    "\n",
    "import numpy as np\n",
    "from sklearn.linear_model import LinearRegression \n",
    "\n",
    "import matplotlib.pyplot as plot\n",
    "import pandas as pd\n",
    "\n",
    "x = np.arange(1, 16)\n",
    "y = [ val*val for val in x]\n",
    "dataSets = [[x[i], y[i]] for i in xrange(len(x))]\n",
    "dataFrame = pd.DataFrame(dataSets, columns=['Decimal', 'Squared'])\n",
    "\n",
    "print dataFrame\n",
    "x = x.reshape((len(x),1))\n",
    "\n",
    "trainedModal = LinearRegression().fit(dataFrame['Decimal'][:,np.newaxis], dataFrame['Squared'])\n",
    "yfit = [val*trainedModal.coef_ + trainedModal.intercept_ for val in x]\n",
    "\n",
    "plot.scatter(x,y);\n",
    "plot.plot(x,yfit)\n",
    "plot.ylabel(\"Square\")\n",
    "plot.xlabel(\"Decimal\")\n",
    "plot.show()\n",
    "trainedModal.predict(12)"
   ]
  },
  {
   "cell_type": "code",
   "execution_count": 79,
   "metadata": {},
   "outputs": [
    {
     "data": {
      "text/plain": [
       "144"
      ]
     },
     "execution_count": 79,
     "metadata": {},
     "output_type": "execute_result"
    }
   ],
   "source": [
    "12*12"
   ]
  },
  {
   "cell_type": "code",
   "execution_count": 80,
   "metadata": {},
   "outputs": [
    {
     "name": "stdout",
     "output_type": "stream",
     "text": [
      "0    1.0\n",
      "1    3.0\n",
      "2    5.0\n",
      "3    NaN\n",
      "4    6.0\n",
      "5    8.0\n",
      "dtype: float64\n",
      "DatetimeIndex(['2013-01-01', '2013-01-02', '2013-01-03', '2013-01-04',\n",
      "               '2013-01-05', '2013-01-06'],\n",
      "              dtype='datetime64[ns]', freq='D')\n",
      "[[-0.06582554 -0.37256655 -0.67163834 -0.17694476]\n",
      " [-0.63439302 -1.1891433  -1.68153069 -0.59736016]\n",
      " [ 0.50959372  2.25907721 -1.14930861 -1.79935044]\n",
      " [-0.21491828 -0.12773214  0.42836289  0.41585971]\n",
      " [-1.53217099 -1.50514551 -0.12715357  1.13107473]\n",
      " [-0.61677682 -0.44963832 -0.71199593  0.8312795 ]]\n",
      "                   A         B         C         D\n",
      "2013-01-01 -0.065826 -0.372567 -0.671638 -0.176945\n",
      "2013-01-02 -0.634393 -1.189143 -1.681531 -0.597360\n",
      "2013-01-03  0.509594  2.259077 -1.149309 -1.799350\n",
      "2013-01-04 -0.214918 -0.127732  0.428363  0.415860\n",
      "2013-01-05 -1.532171 -1.505146 -0.127154  1.131075\n",
      "2013-01-06 -0.616777 -0.449638 -0.711996  0.831280\n"
     ]
    }
   ],
   "source": [
    "import pandas as pd\n",
    "import numpy as np\n",
    "\n",
    "s = pd.Series([1, 3, 5, np.nan, 6, 8])\n",
    "print(s)\n",
    "\n",
    "dates = pd.date_range('20130101', periods=6)\n",
    "print(dates)\n",
    "a = np.random.randn(6, 4);\n",
    "print a\n",
    "df = pd.DataFrame(a, index=dates, columns=list('ABCD'))\n",
    "print df"
   ]
  },
  {
   "cell_type": "code",
   "execution_count": 65,
   "metadata": {},
   "outputs": [
    {
     "name": "stdout",
     "output_type": "stream",
     "text": [
      "[[-0.75645977  0.84703457 -0.16965167  0.08445217]\n",
      " [ 0.95466913  0.64981309  0.89220861  1.19201924]\n",
      " [-0.42584096  0.85730527  0.20926194 -0.66325518]\n",
      " [-0.06082927 -2.15990518 -0.34490659  0.3949339 ]\n",
      " [-0.06930925  0.14782592 -0.70430105  0.40567551]\n",
      " [ 0.62007462 -0.4575208  -0.95121946 -0.64190907]]\n"
     ]
    }
   ],
   "source": [
    "import numpy as np\n",
    "print np.random.randn(6, 4)"
   ]
  },
  {
   "cell_type": "code",
   "execution_count": null,
   "metadata": {},
   "outputs": [],
   "source": []
  }
 ],
 "metadata": {
  "kernelspec": {
   "display_name": "Python 2",
   "language": "python",
   "name": "python2"
  },
  "language_info": {
   "codemirror_mode": {
    "name": "ipython",
    "version": 2
   },
   "file_extension": ".py",
   "mimetype": "text/x-python",
   "name": "python",
   "nbconvert_exporter": "python",
   "pygments_lexer": "ipython2",
   "version": "2.7.15"
  }
 },
 "nbformat": 4,
 "nbformat_minor": 2
}
