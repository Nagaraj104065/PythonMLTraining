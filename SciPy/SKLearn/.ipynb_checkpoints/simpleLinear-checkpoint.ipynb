{
 "cells": [
  {
   "cell_type": "code",
   "execution_count": 2,
   "metadata": {},
   "outputs": [
    {
     "name": "stdout",
     "output_type": "stream",
     "text": [
      "best fit line:\n",
      "y = 11.00 + 0.00x\n"
     ]
    },
    {
     "data": {
      "image/png": "[encoded data removed]",
      "text/plain": [
       "<Figure size 432x288 with 1 Axes>"
      ]
     },
     "metadata": {},
     "output_type": "display_data"
    }
   ],
   "source": [
    "# sample points\n",
    "X = [0, 6, 11, 14, 22]\n",
    "Y = [1, 7, 12, 15, 21]\n",
    "\n",
    "\n",
    "# solve for a and b\n",
    "def best_fit(X, Y):\n",
    "    xbar = sum(X) / len(X)\n",
    "    ybar = sum(Y) / len(Y)\n",
    "    n = len(X)  # or len(Y)\n",
    "\n",
    "    numer = sum([xi * yi for xi, yi in zip(X, Y)]) - n * xbar * ybar\n",
    "    denum = sum([xi ** 2 for xi in X]) - n * xbar ** 2\n",
    "\n",
    "    b = numer / denum\n",
    "    a = ybar - b * xbar\n",
    "\n",
    "    print('best fit line:\\ny = {:.2f} + {:.2f}x'.format(a, b))\n",
    "\n",
    "    return a, b\n",
    "\n",
    "\n",
    "# solution\n",
    "a, b = best_fit(X, Y)\n",
    "# best fit line:\n",
    "# y = 0.80 + 0.92x\n",
    "\n",
    "# plot points and fit line\n",
    "import matplotlib.pyplot\n",
    "\n",
    "matplotlib.pyplot.scatter(X, Y)\n",
    "yfit = [a + b * xi for xi in X]\n",
    "matplotlib.pyplot.plot(X, yfit)\n",
    "matplotlib.pyplot.show()\n"
   ]
  },
  {
   "cell_type": "code",
   "execution_count": null,
   "metadata": {},
   "outputs": [],
   "source": []
  }
 ],
 "metadata": {
  "kernelspec": {
   "display_name": "Python 2",
   "language": "python",
   "name": "python2"
  },
  "language_info": {
   "codemirror_mode": {
    "name": "ipython",
    "version": 2
   },
   "file_extension": ".py",
   "mimetype": "text/x-python",
   "name": "python",
   "nbconvert_exporter": "python",
   "pygments_lexer": "ipython2",
   "version": "2.7.15"
  }
 },
 "nbformat": 4,
 "nbformat_minor": 1
}
